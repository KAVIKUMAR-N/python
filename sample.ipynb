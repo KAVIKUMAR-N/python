{
 "cells": [
  {
   "cell_type": "code",
   "execution_count": 2,
   "metadata": {},
   "outputs": [
    {
     "name": "stdout",
     "output_type": "stream",
     "text": [
      "hii\n"
     ]
    }
   ],
   "source": [
    "print(\"hii\")"
   ]
  },
  {
   "cell_type": "code",
   "execution_count": 5,
   "metadata": {},
   "outputs": [
    {
     "name": "stdout",
     "output_type": "stream",
     "text": [
      "your age is: 20\n",
      "<class 'int'>\n"
     ]
    }
   ],
   "source": [
    "a=input(\"enter your age:\")\n",
    "print(\"your age is:\",a)\n",
    "b=int(a)\n",
    "print(type(b))"
   ]
  },
  {
   "cell_type": "code",
   "execution_count": 8,
   "metadata": {},
   "outputs": [
    {
     "name": "stdout",
     "output_type": "stream",
     "text": [
      "['kavi', 'ajay', 'praven', 'pradeep', 'sanjai', 'pavan', 'vijay']\n",
      "after delete 3 index value:\n",
      "['kavi', 'ajay', 'praven', 'sanjai', 'pavan', 'vijay']\n",
      "after sorting in the ascending value:\n",
      " ['ajay', 'kavi', 'pavan', 'praven', 'sanjai', 'vijay']\n",
      "after sorting in the descending value:\n",
      " ['vijay', 'sanjai', 'praven', 'pavan', 'kavi', 'ajay']\n",
      "[[1, 2, 3, 4, 5], [5, 6, 7, 8, 9]]\n",
      "['arun', 'raja']\n"
     ]
    }
   ],
   "source": [
    "a=[\"kavi\",\"ajay\",\"praven\"]\n",
    "b=[\"pradeep\",\"sanjai\",\"pavan\"]\n",
    "a.extend(b)\n",
    "a.append(\"vijay\")\n",
    "print(a)\n",
    "a.pop(3)\n",
    "print(\"after delete 3 index value:\")\n",
    "print(a)\n",
    "a.sort()\n",
    "print(\"after sorting in the ascending value:\\n\",a)\n",
    "a.sort(reverse=True)\n",
    "print(\"after sorting in the descending value:\\n\",a)\n",
    "c=[1,2,3,4,5]\n",
    "d=[5,6,7,8,9]\n",
    "e=[c,d]\n",
    "f=[\"raja\",\"arun\"]\n",
    "f.reverse()\n",
    "print(e)\n",
    "print(f)"
   ]
  },
  {
   "cell_type": "code",
   "execution_count": 3,
   "metadata": {},
   "outputs": [
    {
     "name": "stdout",
     "output_type": "stream",
     "text": [
      "amstrong\n"
     ]
    },
    {
     "data": {
      "text/plain": [
       "'Example:\\nNumber: 153\\n153 % 10 = 3 (digit 3)\\n153 / 10 = 15\\n15 % 10 = 5 (digit 5)\\n15 / 10 = 1\\n1 % 10 = 1 (digit 1)\\n1 / 10 = 0 (done)\\n'"
      ]
     },
     "execution_count": 3,
     "metadata": {},
     "output_type": "execute_result"
    }
   ],
   "source": [
    "number=int(input(\"enter the number:\"))\n",
    "length=len(str(number))\n",
    "temp=number\n",
    "result=0\n",
    "while temp>0:\n",
    "    digit=temp%10\n",
    "    result+=digit**length\n",
    "    temp=temp//10\n",
    "if result==number:\n",
    "        print(\"amstrong\")\n",
    "else:\n",
    "      print(\"not amstrong\")\n",
    "    \n",
    "\"\"\"Example:\n",
    "Number: 153\n",
    "153 % 10 = 3 (digit 3)\n",
    "153 / 10 = 15\n",
    "15 % 10 = 5 (digit 5)\n",
    "15 / 10 = 1\n",
    "1 % 10 = 1 (digit 1)\n",
    "1 / 10 = 0 (done)\n",
    "\"\"\""
   ]
  },
  {
   "cell_type": "code",
   "execution_count": 55,
   "metadata": {},
   "outputs": [
    {
     "name": "stdout",
     "output_type": "stream",
     "text": [
      "3  is a prime number\n"
     ]
    }
   ],
   "source": [
    "a = int(input(\"Enter a number: \"))\n",
    "count = 0\n",
    "\n",
    "for i in range(1, a + 1):\n",
    "    if a % i == 0:\n",
    "        count += 1\n",
    "\n",
    "if count == 2:\n",
    "    print(f\"{a}  is a prime number\")\n",
    "else:\n",
    "    print(f\"{a}  is not a prime number\")\n"
   ]
  },
  {
   "cell_type": "code",
   "execution_count": 9,
   "metadata": {},
   "outputs": [
    {
     "name": "stdout",
     "output_type": "stream",
     "text": [
      " 2000 its is leap year\n"
     ]
    }
   ],
   "source": [
    "n=int(input(\"enter the year:\"))\n",
    "if n%4==0 :\n",
    "    print (f\" {n} its is leap year\")\n",
    "else:\n",
    "    print(f\"{n} its is a not leap year\")"
   ]
  },
  {
   "cell_type": "code",
   "execution_count": 10,
   "metadata": {},
   "outputs": [
    {
     "name": "stdout",
     "output_type": "stream",
     "text": [
      "1 * 2 = 2\n",
      "2 * 2 = 4\n",
      "3 * 2 = 6\n",
      "4 * 2 = 8\n",
      "5 * 2 = 10\n",
      "6 * 2 = 12\n",
      "7 * 2 = 14\n",
      "8 * 2 = 16\n",
      "9 * 2 = 18\n",
      "10 * 2 = 20\n"
     ]
    }
   ],
   "source": [
    "for i in range(1,10+1):\n",
    "    print(i,\"*\",\"2\",\"=\",i*2)"
   ]
  },
  {
   "cell_type": "code",
   "execution_count": null,
   "metadata": {},
   "outputs": [
    {
     "name": "stdout",
     "output_type": "stream",
     "text": [
      "*\n",
      "**\n",
      "***\n",
      "****\n",
      "*****\n"
     ]
    }
   ],
   "source": [
    "for  i in range(1,5+1):\n",
    "    print(\"*\"*i)\n"
   ]
  },
  {
   "cell_type": "code",
   "execution_count": null,
   "metadata": {},
   "outputs": [
    {
     "name": "stdout",
     "output_type": "stream",
     "text": [
      "1 \n",
      "1 2 \n",
      "1 2 3 \n",
      "1 2 3 4 \n",
      "1 2 3 4 5 \n"
     ]
    }
   ],
   "source": [
    "\n",
    "for i in range(1,5+1):\n",
    "    for j in range(1,i+1):\n",
    "        print(j,end=\" \")\n",
    "    print()"
   ]
  },
  {
   "cell_type": "code",
   "execution_count": null,
   "metadata": {},
   "outputs": [
    {
     "name": "stdout",
     "output_type": "stream",
     "text": [
      "1\n",
      "22\n",
      "333\n",
      "4444\n",
      "55555\n"
     ]
    }
   ],
   "source": [
    "for i in range(1,5+1):\n",
    "    for j in range(1,i+1):\n",
    "        print(i,end=\"\")\n",
    "    print()\n",
    "\n",
    "    "
   ]
  },
  {
   "cell_type": "code",
   "execution_count": null,
   "metadata": {},
   "outputs": [
    {
     "name": "stdout",
     "output_type": "stream",
     "text": [
      "the factorial 5 is: 120\n"
     ]
    }
   ],
   "source": [
    "def factorial (x):\n",
    "    \n",
    "    if x==1:\n",
    "        return 1\n",
    "    else:\n",
    "        return (x*factorial(x-1))\n",
    "print(\"the factorial 5 is:\",factorial(5))\n"
   ]
  },
  {
   "cell_type": "code",
   "execution_count": null,
   "metadata": {},
   "outputs": [
    {
     "name": "stdout",
     "output_type": "stream",
     "text": [
      "the output value is: 30\n"
     ]
    }
   ],
   "source": [
    "def kavi(x,y):\n",
    "  print(\"the output value is:\",x+y)\n",
    "kavi(10,20)"
   ]
  },
  {
   "cell_type": "code",
   "execution_count": 15,
   "metadata": {},
   "outputs": [
    {
     "name": "stdout",
     "output_type": "stream",
     "text": [
      "0\n",
      "1\n",
      "2\n",
      "3\n"
     ]
    }
   ],
   "source": [
    "for i in range(10+1):\n",
    "    print(i)\n",
    "    if i==3:\n",
    "        break\n",
    "    "
   ]
  },
  {
   "cell_type": "code",
   "execution_count": 17,
   "metadata": {},
   "outputs": [
    {
     "name": "stdout",
     "output_type": "stream",
     "text": [
      "five subject marks:\n",
      " 30 40 50 90 80\n",
      "total mark: 290\n",
      "the average is: 58.0\n",
      "grade c\n"
     ]
    }
   ],
   "source": [
    "m1=int(input(\"enter a mark 1:\"))\n",
    "m2=int(input(\"enter a mark 2:\"))\n",
    "m3=int(input(\"enter a mark 3:\"))\n",
    "m4=int(input(\"enter a mark 4:\"))\n",
    "m5=int(input(\"enter a mark 5:\"))\n",
    "print(\"five subject marks:\\n\",m1,m2,m3,m4,m5)\n",
    "sum=m1+m2+m3+m4+m5\n",
    "print(\"total mark:\",sum)\n",
    "average=sum/5\n",
    "print(\"the average is:\",average)\n",
    "if average>=90:\n",
    "    print(\"grade a\")\n",
    "elif average>=80:\n",
    "    print(\"grade b\")\n",
    "elif average>=70:\n",
    "    print(\"grade c\")\n",
    "elif average>=60:\n",
    "    print(\"grade d\")\n",
    "else:\n",
    "    print(\"grade c\")\n"
   ]
  },
  {
   "cell_type": "code",
   "execution_count": 19,
   "metadata": {},
   "outputs": [
    {
     "name": "stdout",
     "output_type": "stream",
     "text": [
      "10\n",
      "20\n",
      "30\n",
      "40\n",
      "50\n"
     ]
    }
   ],
   "source": [
    "for i in range(1,50+1):\n",
    "    if i%2==0 and i%5==0:\n",
    "        print(i)\n"
   ]
  },
  {
   "cell_type": "code",
   "execution_count": null,
   "metadata": {},
   "outputs": [
    {
     "name": "stdout",
     "output_type": "stream",
     "text": [
      "h\n",
      "e\n",
      "l\n",
      "l\n",
      "o\n"
     ]
    }
   ],
   "source": [
    "s=\"hello\"\n",
    "l=len(s)\n",
    "for i in range(l):\n",
    "    print(s[i])\n"
   ]
  },
  {
   "cell_type": "code",
   "execution_count": null,
   "metadata": {},
   "outputs": [
    {
     "name": "stdout",
     "output_type": "stream",
     "text": [
      "h\n",
      "e\n",
      "l\n",
      "l\n",
      "o\n"
     ]
    }
   ],
   "source": [
    "s=\"hello\"\n",
    "for i in s:\n",
    "    print(i)"
   ]
  },
  {
   "cell_type": "code",
   "execution_count": 20,
   "metadata": {},
   "outputs": [
    {
     "name": "stdout",
     "output_type": "stream",
     "text": [
      "1\n",
      "2\n",
      "3\n",
      "4\n",
      "5\n",
      "6\n",
      "7\n",
      "8\n",
      "9\n",
      "10\n",
      "11\n",
      "12\n",
      "13\n",
      "14\n",
      "15\n",
      "16\n",
      "17\n",
      "18\n",
      "19\n"
     ]
    }
   ],
   "source": [
    "i =1\n",
    "while i<20:\n",
    "    print(i)\n",
    "    i=i+1"
   ]
  },
  {
   "cell_type": "code",
   "execution_count": null,
   "metadata": {},
   "outputs": [
    {
     "name": "stdout",
     "output_type": "stream",
     "text": [
      "0\n",
      "1\n",
      "2\n",
      "3\n",
      "4\n",
      "5\n",
      "6\n",
      "7\n",
      "8\n",
      "9\n",
      "10\n"
     ]
    }
   ],
   "source": [
    "i=0\n",
    "while i<20:\n",
    "     print(i)\n",
    "     if i==10:\n",
    "         break\n",
    "     i+=1\n",
    "     "
   ]
  },
  {
   "cell_type": "code",
   "execution_count": null,
   "metadata": {},
   "outputs": [
    {
     "name": "stdout",
     "output_type": "stream",
     "text": [
      "1\n",
      "2\n",
      "3\n",
      "4\n",
      "5\n",
      "6\n",
      "7\n",
      "8\n",
      "9\n",
      "11\n",
      "12\n",
      "13\n",
      "14\n",
      "15\n",
      "16\n",
      "17\n",
      "18\n",
      "19\n",
      "20\n"
     ]
    }
   ],
   "source": [
    "i=0\n",
    "while i<20:\n",
    "    i+=1\n",
    "    if i==10:\n",
    "        continue\n",
    "    print(i)\n",
    "    \n",
    "\n",
    "    "
   ]
  },
  {
   "cell_type": "code",
   "execution_count": 3,
   "metadata": {},
   "outputs": [
    {
     "name": "stdout",
     "output_type": "stream",
     "text": [
      "[2, 4]\n"
     ]
    }
   ],
   "source": [
    "#list comprehension\n",
    "li=[1,2,3,4,5]\n",
    "new=[x for x in li if x%2==0 ]\n",
    "print(new)"
   ]
  },
  {
   "cell_type": "code",
   "execution_count": 1,
   "metadata": {},
   "outputs": [
    {
     "name": "stdout",
     "output_type": "stream",
     "text": [
      "hii how are you\n",
      "kavikumar\n",
      "hii how are you\n",
      "rajkumar\n"
     ]
    }
   ],
   "source": [
    "def function(fname,lname):\n",
    "    print(\"hii \" +\"how are you\")\n",
    "    print(fname +lname) \n",
    "function(\"kavi\",\"kumar\")\n",
    "function(\"raj\",\"kumar\")\n"
   ]
  },
  {
   "cell_type": "code",
   "execution_count": null,
   "metadata": {},
   "outputs": [
    {
     "name": "stdout",
     "output_type": "stream",
     "text": [
      "hii  kavi\n",
      "hii  kumar\n",
      "hii  raja\n",
      "hii  ravi\n",
      "hii  raj\n"
     ]
    }
   ],
   "source": [
    "#* arbitrary arguments\n",
    "def function(*name):\n",
    "    for i in name:\n",
    "        print(\"hii \" ,i)\n",
    "function(\"kavi\",\"kumar\",\"raja\",\"ravi\",\"raj\")\n",
    "\n",
    "\n",
    "\n"
   ]
  },
  {
   "cell_type": "code",
   "execution_count": null,
   "metadata": {},
   "outputs": [
    {
     "name": "stdout",
     "output_type": "stream",
     "text": [
      "{'name': 'kavi', 'age': 22}\n",
      "{'name': 'ravi', 'age': 23}\n"
     ]
    }
   ],
   "source": [
    "#kw arbitrary argument\n",
    "def function(**name):\n",
    "    print(name)\n",
    "function(name=\"kavi\",age=22)\n",
    "function(name=\"ravi\",age=23)"
   ]
  },
  {
   "cell_type": "code",
   "execution_count": null,
   "metadata": {},
   "outputs": [
    {
     "name": "stdout",
     "output_type": "stream",
     "text": [
      "kaviraj\n",
      "ravikumar\n"
     ]
    }
   ],
   "source": [
    "#default function\n",
    "def sample(fname,lsname=\"kumar\"):\n",
    "    print(fname+lsname)\n",
    "sample(\"kavi\",\"raj\")\n",
    "sample(\"ravi\")\n"
   ]
  },
  {
   "cell_type": "code",
   "execution_count": 5,
   "metadata": {},
   "outputs": [
    {
     "name": "stdout",
     "output_type": "stream",
     "text": [
      "<class 'list'>\n",
      "kavi\n",
      "arun\n",
      "raj\n",
      "24\n"
     ]
    }
   ],
   "source": [
    "def sam(item):\n",
    "    for x in item:\n",
    "        print(x)\n",
    "item=[\"kavi\",\"arun\",\"raj\",24]\n",
    "print(type(item))\n",
    "sam(item)\n"
   ]
  },
  {
   "cell_type": "code",
   "execution_count": 19,
   "metadata": {},
   "outputs": [
    {
     "name": "stdout",
     "output_type": "stream",
     "text": [
      "Square function c\n",
      "The square of 14 is 196\n",
      "196\n"
     ]
    }
   ],
   "source": [
    "def square(num):   \n",
    "     print(\"Square function c\")  \n",
    "     res = num**2\n",
    "     print(\"The square of\", num, \"is\", res)\n",
    "     return res\n",
    "value =  square(14)\n",
    "print(value) \n",
    "\n"
   ]
  },
  {
   "cell_type": "code",
   "execution_count": null,
   "metadata": {},
   "outputs": [
    {
     "name": "stdout",
     "output_type": "stream",
     "text": [
      "44.2\n"
     ]
    }
   ],
   "source": [
    "def calculate_average(v1,v2,v3,v4,v5):\n",
    "    res=v1+v2+v3+v4+v5\n",
    "    average=res/5\n",
    "    print(average)\n",
    "calculate_average(37,38,38,49,59)\n",
    "    \n",
    "    \n",
    "\n"
   ]
  },
  {
   "cell_type": "code",
   "execution_count": null,
   "metadata": {},
   "outputs": [
    {
     "data": {
      "text/plain": [
       "'ivak'"
      ]
     },
     "execution_count": 50,
     "metadata": {},
     "output_type": "execute_result"
    }
   ],
   "source": [
    "#string reverse\n",
    "def square(num):  \n",
    "     return num[::-1]  \n",
    "square(\"kavi\")"
   ]
  },
  {
   "cell_type": "code",
   "execution_count": null,
   "metadata": {},
   "outputs": [
    {
     "data": {
      "text/plain": [
       "14"
      ]
     },
     "execution_count": 3,
     "metadata": {},
     "output_type": "execute_result"
    }
   ],
   "source": [
    "def sample(a,b):\n",
    "    return a+b\n",
    "sample(10,4)\n"
   ]
  },
  {
   "cell_type": "code",
   "execution_count": null,
   "metadata": {},
   "outputs": [
    {
     "name": "stdout",
     "output_type": "stream",
     "text": [
      "7\n",
      "<class 'tuple'>\n"
     ]
    }
   ],
   "source": [
    "def add(*a): # arbitary positional argument \n",
    "    print(a[5])\n",
    "    print(type(a))\n",
    "\n",
    "add(3,3,4,5,6,7,8,9,9)"
   ]
  },
  {
   "cell_type": "code",
   "execution_count": 7,
   "metadata": {},
   "outputs": [
    {
     "name": "stdout",
     "output_type": "stream",
     "text": [
      "Area:\n"
     ]
    },
    {
     "data": {
      "text/plain": [
       "50"
      ]
     },
     "execution_count": 7,
     "metadata": {},
     "output_type": "execute_result"
    }
   ],
   "source": [
    "class Rectangle:\n",
    "    def __init__ (self, width, height):\n",
    "        self.width = width\n",
    "        self.height = height\n",
    "\n",
    "    def area(self):\n",
    "        return self.width * self.height\n",
    "rect = Rectangle(10, 5)\n",
    "print(\"Area:\")\n",
    "rect.area()\n"
   ]
  },
  {
   "cell_type": "code",
   "execution_count": 3,
   "metadata": {},
   "outputs": [
    {
     "name": "stdout",
     "output_type": "stream",
     "text": [
      "dhoni\n"
     ]
    }
   ],
   "source": [
    "class batsman:\n",
    "    def __init__(self,name,age,team):\n",
    "        self.name=name\n",
    "        self.age=age\n",
    "        self.team=team\n",
    "        \n",
    "player1=batsman(\"dhoni\",45,\"csk\")\n",
    "player2=batsman(\"kohli\",40,\"rcb\")\n",
    "print(player1.name)\n",
    "\n",
    "\n"
   ]
  },
  {
   "cell_type": "code",
   "execution_count": 7,
   "metadata": {},
   "outputs": [
    {
     "name": "stdout",
     "output_type": "stream",
     "text": [
      "this game is cricket and it is outdoor game\n",
      "this game is football and it is outdoor game\n"
     ]
    }
   ],
   "source": [
    "class sports:\n",
    "    def game(self,name,type):\n",
    "      \n",
    "        print(f\"this game is {name} and it is {type} game\")\n",
    "game1=sports()\n",
    "game2=sports()\n",
    "game1.game(\"cricket\",\"outdoor\")\n",
    "game2.game(\"football\",\"outdoor\")\n",
    "\n",
    "\n",
    "\n"
   ]
  },
  {
   "cell_type": "code",
   "execution_count": 10,
   "metadata": {},
   "outputs": [
    {
     "name": "stdout",
     "output_type": "stream",
     "text": [
      "kavi coming for the work\n",
      "kavi coming for the party\n"
     ]
    }
   ],
   "source": [
    "class bombay:\n",
    "    def work(self,name):\n",
    "        print(f\"{name} coming for the work\")\n",
    "    def party(self,name):\n",
    "        print(f\"{name} coming for the party\")\n",
    "\n",
    "a=bombay()\n",
    "a.work(\"kavi\")\n",
    "a.party(\"kavi\")\n",
    "\n"
   ]
  },
  {
   "cell_type": "code",
   "execution_count": 11,
   "metadata": {},
   "outputs": [
    {
     "name": "stdout",
     "output_type": "stream",
     "text": [
      "ford 35000\n",
      "benz 45000\n",
      "audi 65000\n"
     ]
    }
   ],
   "source": [
    "class car:\n",
    "    def __init__(self,name,price):\n",
    "        self.name=name\n",
    "        self.price=price\n",
    "car1=car(\"ford\",35000)\n",
    "car2=car(\"benz\",45000)\n",
    "car3=car(\"audi\",65000)\n",
    "print(car1.name,car1.price)\n",
    "print(car2.name,car2.price)\n",
    "print(car3.name,car3.price)\n",
    "\n",
    "\n",
    "\n",
    "\n",
    "\n",
    "            "
   ]
  },
  {
   "cell_type": "code",
   "execution_count": null,
   "metadata": {},
   "outputs": [
    {
     "name": "stdout",
     "output_type": "stream",
     "text": [
      "ford\n",
      "30000\n"
     ]
    }
   ],
   "source": [
    "class car:\n",
    "    def red(self,name,price):\n",
    "        self.name=name\n",
    "        self.price=price\n",
    "        print(name)\n",
    "        print(price)\n",
    "car1=car()\n",
    "car1.red(\"ford\",30000)\n",
    "\n"
   ]
  },
  {
   "cell_type": "code",
   "execution_count": 1,
   "metadata": {},
   "outputs": [
    {
     "name": "stdout",
     "output_type": "stream",
     "text": [
      "Ford\n",
      "20000\n",
      "Car Name: Ford\n",
      "Price: ₹20000\n"
     ]
    }
   ],
   "source": [
    "class Car:\n",
    "    def __init__(self, name, price):\n",
    "        self.name = name\n",
    "        self.price = price\n",
    "\n",
    "    def display_info(self):\n",
    "        print(f\"Car Name: {self.name}\")\n",
    "        print(f\"Price: ₹{self.price}\")\n",
    "\n",
    "car1 = Car(\"Ford\", 20000)\n",
    "\n",
    "print(car1.name)          \n",
    "print(car1.price)         \n",
    "car1.display_info()\n",
    "\n",
    " "
   ]
  },
  {
   "cell_type": "code",
   "execution_count": 17,
   "metadata": {},
   "outputs": [
    {
     "name": "stdout",
     "output_type": "stream",
     "text": [
      " the good boy in our class is ravi\n",
      "the good boy in our class is kavi\n"
     ]
    }
   ],
   "source": [
    "x=\"kavi\"\n",
    "def sam_function():\n",
    "    x=\"ravi\"\n",
    "    print(\" the good boy in our class is\",x)\n",
    "sam_function()\n",
    "print(\"the good boy in our class is\",x)"
   ]
  },
  {
   "cell_type": "code",
   "execution_count": 13,
   "metadata": {},
   "outputs": [
    {
     "name": "stdout",
     "output_type": "stream",
     "text": [
      "Active\n",
      "Active\n"
     ]
    }
   ],
   "source": [
    "status = \"Active\"  # Global variable\n",
    "\n",
    "def show_status():\n",
    "      print(status)\n",
    "\n",
    "show_status()\n",
    "print(status)\n"
   ]
  },
  {
   "cell_type": "code",
   "execution_count": 25,
   "metadata": {},
   "outputs": [
    {
     "name": "stdout",
     "output_type": "stream",
     "text": [
      "Area: 50\n",
      "perimeter: 15\n"
     ]
    }
   ],
   "source": [
    "class Rectangle:\n",
    "    def __init__ (self, width, height):\n",
    "        self.width = width\n",
    "        self.height = height\n",
    "    def area(self):\n",
    "        return self.width * self.height\n",
    "    def perimiter(self):\n",
    "        return self.width+self.height\n",
    "rect = Rectangle(10,5)\n",
    "print(\"Area:\",rect.area())\n",
    "print(\"perimeter:\",rect.perimiter())"
   ]
  },
  {
   "cell_type": "code",
   "execution_count": 29,
   "metadata": {},
   "outputs": [
    {
     "name": "stdout",
     "output_type": "stream",
     "text": [
      "the highest run score in ipl: virat\n",
      "the most ipl cup winner team is: csk\n"
     ]
    }
   ],
   "source": [
    "class batsmans:\n",
    "    def __init__(self,name,team,cup):\n",
    "        self.name=name \n",
    "        self.team=team\n",
    "        self.cup=cup\n",
    "    def highest(self):\n",
    "        print(\"the highest run score in ipl:\",player2.name)\n",
    "    def teams(self):\n",
    "        print(\"the most ipl cup winner team is:\",player1.team)\n",
    "player1=batsmans(\"dhoni\",\"csk\",\"5cups\")\n",
    "player2=batsmans(\"virat\",\"rcb\",\"0\")\n",
    "player1.highest()\n",
    "player1.teams()\n"
   ]
  },
  {
   "cell_type": "code",
   "execution_count": 16,
   "metadata": {},
   "outputs": [
    {
     "name": "stdout",
     "output_type": "stream",
     "text": [
      "the result is: 32\n"
     ]
    }
   ],
   "source": [
    "#this local variable only using inside the function cannot call outside function.\n",
    "def problem():\n",
    "    x=20\n",
    "    y=12\n",
    "    print(\"the result is:\",x+y)\n",
    "problem()"
   ]
  },
  {
   "cell_type": "code",
   "execution_count": 20,
   "metadata": {},
   "outputs": [
    {
     "name": "stdout",
     "output_type": "stream",
     "text": [
      "the result is: 32\n",
      "20\n"
     ]
    }
   ],
   "source": [
    "#this global variable.\n",
    "x=20\n",
    "def problem():\n",
    "    y=12\n",
    "    print(\"the result is:\",x+y)\n",
    "problem()\n",
    "print(x)\n"
   ]
  },
  {
   "cell_type": "code",
   "execution_count": 4,
   "metadata": {},
   "outputs": [
    {
     "name": "stdout",
     "output_type": "stream",
     "text": [
      "the result is: 32\n",
      "32\n"
     ]
    }
   ],
   "source": [
    "# we can using global keyword to declare the global variable\n",
    "\n",
    "def problem():\n",
    "    global x,y\n",
    "    x=20\n",
    "    y=12\n",
    "    print(\"the result is:\",x+y)\n",
    "problem()\n",
    "print(x+y)\n"
   ]
  },
  {
   "cell_type": "code",
   "execution_count": 11,
   "metadata": {},
   "outputs": [
    {
     "name": "stdout",
     "output_type": "stream",
     "text": [
      "i am your science teacher ani\n",
      "welcome ani mam\n"
     ]
    }
   ],
   "source": [
    "class school:\n",
    "    def mam(self,name):\n",
    "        self.name=name\n",
    "        \n",
    "        print(\"i am your science teacher\",self.name)\n",
    "class room(school):\n",
    "    def student(self):\n",
    "        print(f\"welcome {self.name} mam\")\n",
    "a=room()\n",
    "a.mam(\"ani\")\n",
    "a.student()"
   ]
  },
  {
   "cell_type": "code",
   "execution_count": 15,
   "metadata": {},
   "outputs": [
    {
     "name": "stdout",
     "output_type": "stream",
     "text": [
      "i am your science teacher ani\n",
      "welcome ani mam\n"
     ]
    }
   ],
   "source": [
    "class school:\n",
    "    def __init__(self,name):\n",
    "        self.name=name\n",
    "        print(\"i am your science teacher\",self.name)\n",
    "class room(school):\n",
    "    def student(self):\n",
    "        print(f\"welcome {self.name} mam\")\n",
    "a=room(\"ani\")\n",
    "a.student()"
   ]
  },
  {
   "cell_type": "code",
   "execution_count": 4,
   "metadata": {},
   "outputs": [
    {
     "name": "stdout",
     "output_type": "stream",
     "text": [
      "cricket is a gentle man game\n",
      "football is a world most countries played game \n"
     ]
    }
   ],
   "source": [
    "#single inheritance\n",
    "class sports1():\n",
    "    def cricket(self):\n",
    "        print(\"cricket is a gentle man game\")\n",
    "class sports2(sports1):\n",
    "    def football(self):\n",
    "        print(\"football is a world most countries played game \")\n",
    "obj=sports2()\n",
    "obj.cricket()\n",
    "obj.football()\n"
   ]
  },
  {
   "cell_type": "code",
   "execution_count": 5,
   "metadata": {},
   "outputs": [
    {
     "name": "stdout",
     "output_type": "stream",
     "text": [
      "cricket is a gentle man game\n",
      "football is a world most countries played game \n",
      "kabbadi is a tamil culture game \n"
     ]
    }
   ],
   "source": [
    "#multiple inheritance\n",
    "class sports1():\n",
    "    def cricket(self):\n",
    "        print(\"cricket is a gentle man game\")\n",
    "class sports2():\n",
    "    def football(self):\n",
    "        print(\"football is a world most countries played game \")\n",
    "class sports3(sports1,sports2):\n",
    "    def kabbadi(self):\n",
    "        print(\"kabbadi is a tamil culture game \")\n",
    "obj=sports3()\n",
    "obj.cricket()\n",
    "obj.football()\n",
    "obj.kabbadi()"
   ]
  },
  {
   "cell_type": "code",
   "execution_count": null,
   "metadata": {},
   "outputs": [
    {
     "name": "stdout",
     "output_type": "stream",
     "text": [
      "cricket is a gentle man game\n",
      "football is a world most countries played game \n",
      "kabbadi is a tamil culture game \n"
     ]
    }
   ],
   "source": [
    "#multilevel inheritance\n",
    "class sports1():\n",
    "    def cricket(self):\n",
    "        print(\"cricket is a gentle man game\")\n",
    "class sports2(sports1):\n",
    "    def football(self):\n",
    "        print(\"football is a world most countries played game \")\n",
    "class sports3(sports2):\n",
    "    def kabbadi(self):\n",
    "        print(\"kabbadi is a tamil culture game \")\n",
    "obj=sports3()\n",
    "obj.cricket()\n",
    "obj.football()\n",
    "obj.kabbadi()"
   ]
  },
  {
   "cell_type": "code",
   "execution_count": 2,
   "metadata": {},
   "outputs": [
    {
     "name": "stdout",
     "output_type": "stream",
     "text": [
      "cricket is a gentle man game\n",
      "football is a world most countries played game \n"
     ]
    }
   ],
   "source": [
    "#hierarchical inheritance\n",
    "class sports1():\n",
    "    def cricket(self):\n",
    "        print(\"cricket is a gentle man game\")\n",
    "class sports2(sports1):\n",
    "    def football(self):\n",
    "        print(\"football is a world most countries played game \")\n",
    "class sports3(sports1):\n",
    "    def kabbadi(self):\n",
    "        print(\"kabbadi is a tamil culture game \")\n",
    "obj=sports2()\n",
    "obj.cricket()\n",
    "obj.football()\n"
   ]
  },
  {
   "cell_type": "code",
   "execution_count": 43,
   "metadata": {},
   "outputs": [
    {
     "name": "stdout",
     "output_type": "stream",
     "text": [
      "cricket is a gentle man game--by kavi\n",
      "football is a world most countries played game--by kavi\n"
     ]
    }
   ],
   "source": [
    "class sports1():\n",
    "    def cricket(self,name):\n",
    "        self.name=name\n",
    "        print(\"cricket is a gentle man game--by\",name)\n",
    "class sports2(sports1):\n",
    "    def football(self):\n",
    "        print(\"football is a world most countries played game--by\",self.name)\n",
    "obj=sports2()\n",
    "obj.cricket(\"kavi\")\n",
    "obj.football()\n"
   ]
  },
  {
   "cell_type": "code",
   "execution_count": 12,
   "metadata": {},
   "outputs": [
    {
     "name": "stdout",
     "output_type": "stream",
     "text": [
      "zero division error\n",
      "finish\n"
     ]
    }
   ],
   "source": [
    "try:\n",
    "    a=int(input())\n",
    "    b=0\n",
    "    c=a/b\n",
    "except ValueError :\n",
    "    print(\"value error\")\n",
    "except NameError:\n",
    "    print(\"name error\")\n",
    "except ZeroDivisionError:\n",
    "    print(\"zero division error\")\n",
    "else:\n",
    "    print(\"c value is:\",c)\n",
    "finally:\n",
    "    print(\"finish\")\n",
    "\n"
   ]
  },
  {
   "cell_type": "code",
   "execution_count": 1,
   "metadata": {},
   "outputs": [
    {
     "name": "stdout",
     "output_type": "stream",
     "text": [
      "ramnad\n",
      "madurai\n",
      "sivanga\n",
      "theni\n",
      "salem\n",
      "these are 5 distirct in tamil nadu\n",
      "\n"
     ]
    }
   ],
   "source": [
    "files=open(\"kavi.txt\",\"w\")\n",
    "l=[\"ramnad\\n\",\"madurai\\n\",\"sivanga\\n\"]\n",
    "files.writelines(l)\n",
    "files.close()\n",
    "files=open(\"kavi.txt\",\"a\")\n",
    "files.write(\"theni\\n\")\n",
    "files.close()\n",
    "files=open(\"kavi.txt\",\"a\")\n",
    "files.write(\"salem\\n\")\n",
    "files.close()\n",
    "files=open(\"kavi.txt\",\"a\")\n",
    "files.write(\"these are 5 distirct in tamil nadu\\n\")\n",
    "files.close()\n",
    "files=open(\"kavi.txt\",\"r\")\n",
    "print(files.read())"
   ]
  },
  {
   "cell_type": "code",
   "execution_count": 41,
   "metadata": {},
   "outputs": [
    {
     "name": "stdout",
     "output_type": "stream",
     "text": [
      "ramnad\n",
      "madurai\n",
      "sivanga\n",
      "theni\n",
      "salem\n",
      "these are 5 distirct in tamil nadu\n",
      "\n"
     ]
    }
   ],
   "source": [
    "f=open(\"kavi.txt\",\"r\")\n",
    "print(f.read())"
   ]
  },
  {
   "cell_type": "code",
   "execution_count": null,
   "metadata": {},
   "outputs": [
    {
     "name": "stdout",
     "output_type": "stream",
     "text": [
      "0\n",
      "1\n",
      "1\n",
      "2\n",
      "3\n",
      "5\n",
      "8\n",
      "13\n",
      "21\n",
      "34\n"
     ]
    }
   ],
   "source": [
    "#fibanocci series #add previous two number\n",
    "a=int(input())\n",
    "f=0\n",
    "s=1\n",
    "\n",
    "for i in range(a):\n",
    "    print(f)# it print 0 first\n",
    "    temp=f # create temp variable and store f value 0\n",
    "    f=s# now f value over write and f store s value 1\n",
    "    s=temp+f #s value add 0+1\n",
    "    \"\"\"\n",
    "    0\n",
    "    0+1=1\n",
    "    1+1\n",
    "    \"\"\"\n",
    "    \n",
    "    \n",
    "    "
   ]
  },
  {
   "cell_type": "code",
   "execution_count": 2,
   "metadata": {},
   "outputs": [
    {
     "name": "stdout",
     "output_type": "stream",
     "text": [
      "not palindrome\n"
     ]
    }
   ],
   "source": [
    "#palindrome\n",
    "text = input()\n",
    "reversed = text[ ::-1]\n",
    "if text==reversed:\n",
    "    print(\"palindrome\")\n",
    "else:\n",
    "    print(\"not palindrome\")\n"
   ]
  },
  {
   "cell_type": "code",
   "execution_count": null,
   "metadata": {},
   "outputs": [
    {
     "name": "stdout",
     "output_type": "stream",
     "text": [
      "good morning student\n"
     ]
    }
   ],
   "source": [
    "#abstraction program\n",
    "from abc import ABC,abstractmethod\n",
    "class school(ABC):\n",
    "    @abstractmethod\n",
    "    def teacher(self):\n",
    "        pass\n",
    "class Class (school):\n",
    "    def teacher(self):\n",
    "        print(\"good morning student\")\n",
    "obj=Class()\n",
    "obj.teacher()\n"
   ]
  },
  {
   "cell_type": "code",
   "execution_count": null,
   "metadata": {},
   "outputs": [
    {
     "name": "stdout",
     "output_type": "stream",
     "text": [
      "Buddy\n",
      "Bark\n",
      "Buddy\n"
     ]
    }
   ],
   "source": [
    "from abc import ABC, abstractmethod\n",
    "\n",
    "class Animal(ABC):\n",
    "    def __init__(self, name):\n",
    "        self.name = name\n",
    "    def sample(self):\n",
    "         print(self.name)\n",
    "    @abstractmethod\n",
    "    def make_sound(self):\n",
    "        pass\n",
    "\n",
    "class Dog(Animal):\n",
    "    def __init__(self, name):\n",
    "        super().__init__(name)\n",
    "        print(name)\n",
    "    \n",
    "    def make_sound(self):\n",
    "        print(\"Bark\")\n",
    "\n",
    "# Usage\n",
    "dog = Dog(\"Buddy\")\n",
    "dog.make_sound() \n",
    "dog.sample()# Output: Bark\n"
   ]
  },
  {
   "cell_type": "code",
   "execution_count": 45,
   "metadata": {},
   "outputs": [
    {
     "name": "stdout",
     "output_type": "stream",
     "text": [
      "777\n",
      "29\n",
      "kavi\n"
     ]
    }
   ],
   "source": [
    "#encapsulation program\n",
    "class login:\n",
    "    def details(self):\n",
    "        self.name=\"kavi\"#public\n",
    "        self._age=29#protect\n",
    "        self.__password=777#private only call inside same class\n",
    "        print(obj.__password)\n",
    "obj=login()\n",
    "obj.details()\n",
    "print(obj._age)\n",
    "print(obj.name)\n",
    "# print(obj.__password) we cannot call private value outside class"
   ]
  },
  {
   "cell_type": "code",
   "execution_count": null,
   "metadata": {},
   "outputs": [
    {
     "name": "stdout",
     "output_type": "stream",
     "text": [
      "Hello!\n"
     ]
    }
   ],
   "source": [
    "#polymorphism program\n",
    "class Example:\n",
    "    def greet(self, name):\n",
    "        print(f\"Hello, {name}!\")\n",
    "    def greet(self):\n",
    "        print(\"Hello!\")\n",
    "    def greet(self):\n",
    "        print(\"HELLO KAVIKUMAR\")\n",
    "\n",
    "    \n",
    "\n",
    "obj = Example()\n",
    "obj.greet()  # Output:HELLO KAVIKUMAR\n"
   ]
  },
  {
   "cell_type": "code",
   "execution_count": null,
   "metadata": {},
   "outputs": [
    {
     "name": "stdout",
     "output_type": "stream",
     "text": [
      "total 21 emplys work at this bank\n",
      "total amount currently inside  bank is:1000000\n",
      "secret room password 123\n"
     ]
    }
   ],
   "source": [
    "class bank :\n",
    "    def __manager(self,total):#private method\n",
    "        print(f\"total amount currently inside  bank is:{total}\")\n",
    "    def _secret_room(self):#protect\n",
    "        print(\"secret room password 123\")\n",
    "    def employees(self): #public\n",
    "        print(\"total 21 emplys work at this bank\")\n",
    "        obj.__manager(1000000)\n",
    "      \n",
    "obj=bank()\n",
    "obj.employees()\n",
    "obj._secret_room()\n",
    "\n",
    "\n",
    " "
   ]
  },
  {
   "cell_type": "code",
   "execution_count": 16,
   "metadata": {},
   "outputs": [
    {
     "name": "stdout",
     "output_type": "stream",
     "text": [
      "HELLO KAVIKUMAR\n"
     ]
    }
   ],
   "source": [
    "#POLYMORPHISM  METHOD OVERIDING\n",
    "class Example:\n",
    "    def greet(self, name):\n",
    "        print(f\"Hello, {name}!\")\n",
    "\n",
    "class result(Example):\n",
    "    def greet(self):\n",
    "        print(\"HELLO KAVIKUMAR\")\n",
    "\n",
    "    \n",
    "\n",
    "obj =result()\n",
    "obj.greet()  # Output:HELLO KAVIKUMAR\n"
   ]
  },
  {
   "cell_type": "code",
   "execution_count": 12,
   "metadata": {},
   "outputs": [
    {
     "name": "stdout",
     "output_type": "stream",
     "text": [
      "5\n"
     ]
    }
   ],
   "source": [
    "class add:\n",
    "    def addition(self,a,b,c):\n",
    "        print(a+b+c)\n",
    "    def addition(self,a,b):\n",
    "        print(a+b)\n",
    "obj=add()\n",
    "obj.addition(2,3)\n",
    "        "
   ]
  },
  {
   "cell_type": "code",
   "execution_count": 36,
   "metadata": {},
   "outputs": [
    {
     "name": "stdout",
     "output_type": "stream",
     "text": [
      "Something is happening before the function is called.\n",
      "Hello!\n",
      "Something is happening after the function is called.\n"
     ]
    }
   ],
   "source": [
    "def my_decorator(func):\n",
    "    def wrapper():\n",
    "        print(\"Something is happening before the function is called.\")\n",
    "        func()\n",
    "        print(\"Something is happening after the function is called.\")\n",
    "    return wrapper\n",
    "\n",
    "@my_decorator\n",
    "def say_hello():\n",
    "    print(\"Hello!\")\n",
    "\n",
    "say_hello()\n"
   ]
  },
  {
   "cell_type": "code",
   "execution_count": null,
   "metadata": {},
   "outputs": [],
   "source": [
    "class Student:\n",
    "    def __init__(self, name, age):\n",
    "        self.__name = name      # private variable\n",
    "        self.__age = age        # private variable\n",
    "\n",
    "    # Getter for name\n",
    "    def get_name(self):\n",
    "        return self.__name\n",
    "\n",
    "    # Setter for name\n",
    "    def set_name(self, new_name):\n",
    "        self.__name = new_name\n",
    "\n",
    "    # Getter for age\n",
    "    def get_age(self):\n",
    "        return self.__age\n",
    "\n",
    "    # Setter for age\n",
    "    def set_age(self, new_age):\n",
    "        if new_age > 0:\n",
    "            self.__age = new_age\n",
    "        else:\n",
    "            print(\"Age must be positive.\")\n",
    "\n",
    "# Create object\n",
    "student1 = Student(\"John\", 20)\n",
    "\n",
    "# Access data using getter\n",
    "print(\"Name:\", student1.get_name())\n",
    "print(\"Age:\", student1.get_age())\n",
    "\n",
    "# Modify data using setter\n",
    "student1.set_name(\"Alice\")\n",
    "student1.set_age(25)\n",
    "\n",
    "# Show updated data\n",
    "print(\"Updated Name:\", student1.get_name())\n",
    "print(\"Updated Age:\", student1.get_age())\n"
   ]
  },
  {
   "cell_type": "code",
   "execution_count": null,
   "metadata": {},
   "outputs": [],
   "source": [
    "class Student:\n",
    "    def __init__(self, name, age):\n",
    "        self.__name = name\n",
    "        self.__age = age\n",
    "\n",
    "    # Getter for name\n",
    "    @property\n",
    "    def name(self):\n",
    "        return self.__name\n",
    "\n",
    "    # Setter for name\n",
    "    @name.setter\n",
    "    def name(self, new_name):\n",
    "        self.__name = new_name\n",
    "\n",
    "    # Getter for age\n",
    "    @property\n",
    "    def age(self):\n",
    "        return self.__age\n",
    "\n",
    "    # Setter for age\n",
    "    @age.setter\n",
    "    def age(self, new_age):\n",
    "        if new_age > 0:\n",
    "            self.__age = new_age\n",
    "        else:\n",
    "            print(\"Age must be positive.\")\n",
    "\n",
    "# Create object\n",
    "student1 = Student(\"John\", 20)\n",
    "\n",
    "# Accessing like attributes (but behind the scenes it's using methods)\n",
    "print(\"Name:\", student1.name)\n",
    "print(\"Age:\", student1.age)\n",
    "\n",
    "# Setting values (uses the setter)\n",
    "student1.name = \"Alice\"\n",
    "student1.age = 25\n",
    "\n",
    "# Updated values\n",
    "print(\"Updated Name:\", student1.name)\n",
    "print(\"Updated Age:\", student1.age)\n"
   ]
  },
  {
   "cell_type": "code",
   "execution_count": 12,
   "metadata": {},
   "outputs": [
    {
     "name": "stdout",
     "output_type": "stream",
     "text": [
      "catering incharge reponsible for this boys \n",
      "kavi,ravi,ajay\n",
      "so i take commission from your salary\n"
     ]
    }
   ],
   "source": [
    "def catering_incharge(func):\n",
    "    def catering_boys():\n",
    "        print(\"catering incharge reponsible for this boys \")\n",
    "        func()\n",
    "        print(\"so i take commission from your salary\")\n",
    "    return catering_boys\n",
    "@catering_incharge\n",
    "def boys():\n",
    "    print(\"kavi,ravi,ajay\")\n",
    "boys()"
   ]
  },
  {
   "cell_type": "code",
   "execution_count": 13,
   "metadata": {},
   "outputs": [
    {
     "name": "stdout",
     "output_type": "stream",
     "text": [
      "kavi\n",
      "ravi\n"
     ]
    }
   ],
   "source": [
    "class Kavi:\n",
    "    def __init__(self, name, age):\n",
    "        self.__name = name\n",
    "        self.__age = age\n",
    "\n",
    "    def get_name(self):\n",
    "        return self.__name\n",
    "\n",
    "    def set_name(self, newname):\n",
    "        self.__name = newname\n",
    "\n",
    "    def get_age(self):\n",
    "        return self.__age\n",
    "\n",
    "    def set_age(self, newage):\n",
    "        self.__age = newage\n",
    "\n",
    "a = Kavi(\"kavi\", 21)\n",
    "print(a.get_name())  # Outputs: kavi\n",
    "a.set_name(\"ravi\")\n",
    "print(a.get_name())  # Outputs: ravi\n"
   ]
  },
  {
   "cell_type": "code",
   "execution_count": 1,
   "metadata": {},
   "outputs": [
    {
     "name": "stdout",
     "output_type": "stream",
     "text": [
      "Area: 50\n",
      "perimeter: 15\n"
     ]
    }
   ],
   "source": [
    "class Rectangle:\n",
    "    def __init__ (self, width, height):\n",
    "        self.width = width\n",
    "        self.height = height\n",
    "    def area(self):\n",
    "        return self.width * self.height\n",
    "    def perimiter(self):\n",
    "        return self.width+self.height\n",
    "rect = Rectangle(10,5)\n",
    "print(\"Area:\",rect.area())\n",
    "print(\"perimeter:\",rect.perimiter())"
   ]
  },
  {
   "cell_type": "code",
   "execution_count": 15,
   "metadata": {},
   "outputs": [
    {
     "name": "stdout",
     "output_type": "stream",
     "text": [
      "kavi\n",
      "20\n",
      "300000\n",
      "the new salary for kavi 330000.0\n"
     ]
    }
   ],
   "source": [
    "class employee:\n",
    "    def __init__(self,name,age,salary):\n",
    "        self.name=name\n",
    "        self.age=age\n",
    "        self.salary=salary\n",
    "        print(name)\n",
    "        print(age)\n",
    "        print(salary)\n",
    "        \n",
    "    def increase_salary(self,percentage):\n",
    "        increase=self.salary*(percentage/100)\n",
    "        self.salary += increase\n",
    "        return self.salary\n",
    "        \n",
    "\n",
    "emp=employee(\"kavi\",20,300000)\n",
    "emp.increase_salary(10)\n",
    "print(f\"the new salary for {emp.name} {emp.salary}\")"
   ]
  },
  {
   "cell_type": "code",
   "execution_count": 28,
   "metadata": {},
   "outputs": [
    {
     "name": "stdout",
     "output_type": "stream",
     "text": [
      "25\n"
     ]
    }
   ],
   "source": [
    "class book:\n",
    "    def __init__(self,title, author, year):\n",
    "        self.title=title\n",
    "        self.author=author\n",
    "        self.year=year\n",
    "    def get_age(self,currentyear):\n",
    "        age= currentyear-self.year\n",
    "        print(age)\n",
    "       \n",
    "obj=book(\"titanic\",\"kavi\",2000)\n",
    "obj.get_age(2025)\n",
    "\n"
   ]
  },
  {
   "cell_type": "code",
   "execution_count": 2,
   "metadata": {},
   "outputs": [
    {
     "name": "stdout",
     "output_type": "stream",
     "text": [
      "ford\n",
      "2002\n",
      "car has started\n"
     ]
    }
   ],
   "source": [
    "class car:\n",
    "    def __init__(self,model,year):\n",
    "        self.model=model\n",
    "        self.year=year\n",
    "    def start_engine(self):\n",
    "        return (\"car has started\")\n",
    "obj=car(\"ford\",2002)\n",
    "print(obj.model)\n",
    "print(obj.year)\n",
    "print(obj.start_engine())"
   ]
  },
  {
   "cell_type": "code",
   "execution_count": 30,
   "metadata": {},
   "outputs": [
    {
     "name": "stdout",
     "output_type": "stream",
     "text": [
      "kavi\n",
      "29\n",
      "pass\n"
     ]
    }
   ],
   "source": [
    "class student():\n",
    "    def __init__(self,name,age,mark):\n",
    "        self.name=name\n",
    "        self.age=age\n",
    "        self.mark=mark\n",
    "    def calculate(self):\n",
    "        average=sum(self.mark)/len(self.mark)\n",
    "        if average>=60:\n",
    "            return(\"pass\")\n",
    "        \n",
    "obj=student(\"kavi\",29,[70,70,70,70,79])\n",
    "print(obj.name)\n",
    "print(obj.age)\n",
    "print(obj.calculate())\n",
    "\n",
    "            \n"
   ]
  },
  {
   "cell_type": "code",
   "execution_count": 50,
   "metadata": {},
   "outputs": [
    {
     "name": "stdout",
     "output_type": "stream",
     "text": [
      "Name: Alice\n",
      "Address: 123 Main St\n",
      "Student ID: 101\n"
     ]
    }
   ],
   "source": [
    "class Person:\n",
    "    def __init__(self, name, address):\n",
    "        self.name = name\n",
    "        self.address = address\n",
    "\n",
    "class Student(Person):\n",
    "    def __init__(self, name, address, student_id):\n",
    "        super().__init__(name, address)  # Call Person's constructor\n",
    "        self.student_id = student_id\n",
    "\n",
    "    def display(self):\n",
    "        print(f\"Name: {self.name}\")\n",
    "        print(f\"Address: {self.address}\")\n",
    "        print(f\"Student ID: {self.student_id}\")\n",
    "\n",
    "s1 =Student(\"Alice\", \"123 Main St\",101)\n",
    "s1.display()\n"
   ]
  },
  {
   "cell_type": "code",
   "execution_count": 51,
   "metadata": {},
   "outputs": [
    {
     "name": "stdout",
     "output_type": "stream",
     "text": [
      "['ajay', 'kavi', 'ravi']\n"
     ]
    }
   ],
   "source": [
    "a=[\"kavi\",\"ravi\",\"ajay\"]\n",
    "a.sort()\n",
    "print(a)"
   ]
  },
  {
   "cell_type": "code",
   "execution_count": 1,
   "metadata": {},
   "outputs": [
    {
     "name": "stdout",
     "output_type": "stream",
     "text": [
      "The number of vowels in the string is: 0\n"
     ]
    }
   ],
   "source": [
    "# Input: String from the user\n",
    "string = input(\"Enter a string: \")\n",
    "\n",
    "# Define vowels\n",
    "vowels = \"aeiouAEIOU\"\n",
    "\n",
    "# Initialize a counter\n",
    "count = 0\n",
    "\n",
    "# Loop through each character in the string\n",
    "for i in string:\n",
    "    if i in vowels:\n",
    "        count += 1\n",
    "\n",
    "# Output the result\n",
    "print(f\"The number of vowels in the string is: {count}\")\n"
   ]
  },
  {
   "cell_type": "code",
   "execution_count": 3,
   "metadata": {},
   "outputs": [
    {
     "name": "stdout",
     "output_type": "stream",
     "text": [
      "[0, 1, 4, 9, 16, 25, 36, 49, 64, 81]\n"
     ]
    }
   ],
   "source": [
    "squares = [x**2 for x in range(10)]\n",
    "print(squares)"
   ]
  },
  {
   "cell_type": "code",
   "execution_count": 21,
   "metadata": {},
   "outputs": [
    {
     "name": "stdout",
     "output_type": "stream",
     "text": [
      "kavi is the elder for all  other  \n",
      "kavi is a 21 year old\n"
     ]
    }
   ],
   "source": [
    "\n",
    "class difference:\n",
    "    def __init__(self,name,age):\n",
    "        self.name=name\n",
    "        self.age=age\n",
    "    def first(self):\n",
    "        print(f\"{self.name} is the elder for all  other  \")\n",
    "    def second(self):\n",
    "        print(f\"{self.name} is a {self.age} year old\")\n",
    "obj=difference(\"kavi\",21)\n",
    "obj.first()\n",
    "obj.second()"
   ]
  },
  {
   "cell_type": "code",
   "execution_count": 30,
   "metadata": {},
   "outputs": [
    {
     "name": "stdout",
     "output_type": "stream",
     "text": [
      "kavi is the elder for all  other  \n",
      "kavi is a 21 year old\n",
      "kavi and vijay are close friends \n"
     ]
    }
   ],
   "source": [
    "class difference:\n",
    "    def __init__(self,name,age):\n",
    "        self.name=name\n",
    "        self.age=age\n",
    "    def first(self):\n",
    "        print(f\"{self.name} is the elder for all  other  \")\n",
    "    def second(self):\n",
    "        print(f\"{self.name} is a {self.age} year old\")\n",
    "class friend(difference):\n",
    "     def friends(self,name):\n",
    "        print(f\"{self.name} and {name} are close friends \")\n",
    "obj=friend(\"kavi\",21)\n",
    "obj.first()\n",
    "obj.second()\n",
    "obj.friends(\"vijay\")\n",
    "\n",
    "\n"
   ]
  },
  {
   "cell_type": "code",
   "execution_count": 34,
   "metadata": {},
   "outputs": [
    {
     "name": "stdout",
     "output_type": "stream",
     "text": [
      "kavi is the elder for all  other  \n",
      "kavi is a 21 year old\n",
      "kavi and vijay are close friends \n",
      "kavi and arun are enemy \n"
     ]
    }
   ],
   "source": [
    "class difference:\n",
    "    def __init__(self,name,age):\n",
    "        self.name=name\n",
    "        self.age=age\n",
    "    def first(self):\n",
    "        print(f\"{self.name} is the elder for all  other  \")\n",
    "    def second(self):\n",
    "        print(f\"{self.name} is a {self.age} year old\")\n",
    "class enemy():\n",
    "    def enemies(self,name):\n",
    "         print(f\"{self.name} and {name} are enemy \")\n",
    "\n",
    "class friend(difference,enemy):\n",
    "     def friends(self,name):\n",
    "        print(f\"{self.name} and {name} are close friends \")\n",
    "obj=friend(\"kavi\",21)\n",
    "obj.first()\n",
    "obj.second()\n",
    "obj.friends(\"vijay\")\n",
    "obj.enemies(\"arun\")\n",
    "\n"
   ]
  },
  {
   "cell_type": "code",
   "execution_count": 6,
   "metadata": {},
   "outputs": [
    {
     "name": "stdout",
     "output_type": "stream",
     "text": [
      "the second largest numbe in the element is 3\n"
     ]
    }
   ],
   "source": [
    "b=[]\n",
    "a=int(input(\"enter a number element:\"))\n",
    "for i in range(a):\n",
    "    val=int(input())\n",
    "    b.append(val)\n",
    "    b.sort()\n",
    "print(\"the second largest numbe in the element is\",b[-2])"
   ]
  },
  {
   "cell_type": "code",
   "execution_count": 2,
   "metadata": {},
   "outputs": [
    {
     "name": "stdout",
     "output_type": "stream",
     "text": [
      "120\n"
     ]
    }
   ],
   "source": [
    "a=int(input(\"enter a element\"))\n",
    "fact=1\n",
    "for i in range(1,a+1):\n",
    "    fact=fact*i\n",
    "print(fact)\n"
   ]
  }
 ],
 "metadata": {
  "kernelspec": {
   "display_name": "Python 3",
   "language": "python",
   "name": "python3"
  },
  "language_info": {
   "codemirror_mode": {
    "name": "ipython",
    "version": 3
   },
   "file_extension": ".py",
   "mimetype": "text/x-python",
   "name": "python",
   "nbconvert_exporter": "python",
   "pygments_lexer": "ipython3",
   "version": "3.9.0"
  }
 },
 "nbformat": 4,
 "nbformat_minor": 2
}
